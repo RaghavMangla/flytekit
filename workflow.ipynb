{
 "cells": [
  {
   "cell_type": "markdown",
   "metadata": {},
   "source": [
    "# Flyte in a Notebook\n",
    "\n",
    "Execute flyte workflows directly from a notebook."
   ]
  },
  {
   "cell_type": "code",
   "execution_count": 1,
   "metadata": {},
   "outputs": [
    {
     "name": "stdout",
     "output_type": "stream",
     "text": [
      "The run_notebook_remote module is not an IPython extension.\n"
     ]
    }
   ],
   "source": [
    "%load_ext run_notebook_remote"
   ]
  },
  {
   "cell_type": "code",
   "execution_count": 2,
   "metadata": {},
   "outputs": [],
   "source": [
    "import pandas as pd\n",
    "from sklearn.datasets import load_wine\n",
    "from sklearn.linear_model import LogisticRegression\n",
    "\n",
    "from flytekit import task, workflow"
   ]
  },
  {
   "cell_type": "markdown",
   "metadata": {},
   "source": [
    "Create tasks"
   ]
  },
  {
   "cell_type": "code",
   "execution_count": 3,
   "metadata": {
    "tags": []
   },
   "outputs": [],
   "source": [
    "@task\n",
    "def get_data() -> pd.DataFrame:\n",
    "    \"\"\"Get the wine dataset.\"\"\"\n",
    "    return load_wine(as_frame=True).frame\n",
    "\n",
    "\n",
    "@task\n",
    "def process_data(data: pd.DataFrame) -> pd.DataFrame:\n",
    "    \"\"\"Simplify the task from a 3-class to a binary classification problem.\"\"\"\n",
    "    return data.assign(target=lambda x: x[\"target\"].where(x[\"target\"] == 0, 1))\n",
    "\n",
    "\n",
    "@task\n",
    "def train_model(data: pd.DataFrame, hyperparameters: dict) -> LogisticRegression:\n",
    "    \"\"\"Train a model on the wine dataset.\"\"\"\n",
    "    features = data.drop(\"target\", axis=\"columns\")\n",
    "    target = data[\"target\"]\n",
    "    return LogisticRegression(max_iter=3000, **hyperparameters).fit(features, target)"
   ]
  },
  {
   "cell_type": "markdown",
   "metadata": {},
   "source": [
    "Create a workflow"
   ]
  },
  {
   "cell_type": "code",
   "execution_count": 4,
   "metadata": {},
   "outputs": [],
   "source": [
    "@workflow\n",
    "def training_workflow(hyperparameters: dict) -> LogisticRegression:\n",
    "    \"\"\"Put all of the steps together into a single workflow.\"\"\"\n",
    "    data = get_data()\n",
    "    processed_data = process_data(data=data)\n",
    "    return train_model(\n",
    "        data=processed_data,\n",
    "        hyperparameters=hyperparameters,\n",
    "    )"
   ]
  },
  {
   "cell_type": "code",
   "execution_count": 5,
   "metadata": {},
   "outputs": [
    {
     "name": "stdout",
     "output_type": "stream",
     "text": [
      "Go to http://localhost:30080/console/projects/flytesnacks/domains/development/executions/fe29516afab8e417a801 to see execution in the console.\n"
     ]
    }
   ],
   "source": [
    "%notebook_run --remote training_workflow --hyperparameters '{\"C\": 0.1}'"
   ]
  }
 ],
 "metadata": {
  "kernelspec": {
   "display_name": "Python 3 (ipykernel)",
   "language": "python",
   "name": "python3"
  },
  "language_info": {
   "codemirror_mode": {
    "name": "ipython",
    "version": 3
   },
   "file_extension": ".py",
   "mimetype": "text/x-python",
   "name": "python",
   "nbconvert_exporter": "python",
   "pygments_lexer": "ipython3",
   "version": "3.9.17"
  }
 },
 "nbformat": 4,
 "nbformat_minor": 4
}
